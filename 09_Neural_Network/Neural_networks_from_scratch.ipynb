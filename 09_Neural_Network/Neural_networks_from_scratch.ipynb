{
 "cells": [
  {
   "cell_type": "code",
   "execution_count": 1,
   "metadata": {},
   "outputs": [],
   "source": [
    "import numpy as np\n",
    "import matplotlib.pyplot as plt\n",
    "import nnfs\n",
    "\n",
    "nnfs.init()"
   ]
  },
  {
   "cell_type": "markdown",
   "metadata": {},
   "source": [
    "# 1. Introducing Neural Network"
   ]
  },
  {
   "cell_type": "markdown",
   "metadata": {},
   "source": [
    "> 神经网络可以被看做一个“black box”\n",
    "\n",
    "\n"
   ]
  },
  {
   "cell_type": "markdown",
   "metadata": {},
   "source": [
    "# 2. Neuron and Layer"
   ]
  },
  {
   "cell_type": "markdown",
   "metadata": {},
   "source": [
    "## 2.1 Single Neuron"
   ]
  },
  {
   "cell_type": "markdown",
   "metadata": {},
   "source": [
    "Neuron是神经网络最基本的单位，Neural会接收data，通过内部的function计算得到结果，神经元的函数是：\n",
    "$$f(x) = w \\cdot x + b$$\n",
    "其中$w$是weighted parameter, $b$是bias，$x$是该神经元接收的数据，运算结果是一个一维数据。\n",
    "- 通常计算结果需要通过activate function进行激活，这样使他有非线性的属性\n",
    "\n",
    "下面是一个最简单的神经元"
   ]
  },
  {
   "cell_type": "code",
   "execution_count": 2,
   "metadata": {},
   "outputs": [
    {
     "name": "stdout",
     "output_type": "stream",
     "text": [
      "2.3\n"
     ]
    }
   ],
   "source": [
    "inputs = [1,2,3]    # x\n",
    "weights = [0.2, 0.8, -0.5]  # w\n",
    "bias = 2\n",
    "\n",
    "outputs = (inputs[0]*weights[0] + \n",
    "           inputs[1]*weights[1] +\n",
    "           inputs[2]*weights[2] +\n",
    "           bias)\n",
    "# output的结果就是神经元计算的结果\n",
    "print(outputs)"
   ]
  },
  {
   "cell_type": "markdown",
   "metadata": {},
   "source": [
    "可见如果有3个inputs，就需要3个权重参数，同样如果是4个inputs也需要4个权重参数，bias都是1个。\n",
    "\n",
    "这就是Neuron的基础形式"
   ]
  },
  {
   "cell_type": "markdown",
   "metadata": {},
   "source": [
    "## 2.2 Layer of Neurons"
   ]
  },
  {
   "cell_type": "markdown",
   "metadata": {},
   "source": []
  }
 ],
 "metadata": {
  "kernelspec": {
   "display_name": "fit5221",
   "language": "python",
   "name": "python3"
  },
  "language_info": {
   "codemirror_mode": {
    "name": "ipython",
    "version": 3
   },
   "file_extension": ".py",
   "mimetype": "text/x-python",
   "name": "python",
   "nbconvert_exporter": "python",
   "pygments_lexer": "ipython3",
   "version": "3.9.16"
  }
 },
 "nbformat": 4,
 "nbformat_minor": 2
}
