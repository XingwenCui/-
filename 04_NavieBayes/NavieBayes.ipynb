{
 "cells": [
  {
   "cell_type": "code",
   "execution_count": 28,
   "metadata": {},
   "outputs": [],
   "source": [
    "from sklearn.datasets import fetch_openml #download Minist\n",
    "from sklearn.metrics import accuracy_score\n",
    "from sklearn.model_selection import train_test_split\n",
    "import numpy as np\n",
    "\n",
    "from sklearn.naive_bayes import MultinomialNB"
   ]
  },
  {
   "cell_type": "code",
   "execution_count": 12,
   "metadata": {},
   "outputs": [
    {
     "data": {
      "text/plain": [
       "10"
      ]
     },
     "execution_count": 12,
     "metadata": {},
     "output_type": "execute_result"
    }
   ],
   "source": [
    "len(set(y_train))"
   ]
  },
  {
   "cell_type": "code",
   "execution_count": 20,
   "metadata": {},
   "outputs": [],
   "source": [
    "class MyNavieBayes:\n",
    "\n",
    "    def __init__(self, X_train, y_train, X_test, y_test) -> None:\n",
    "        '''\n",
    "        载入数据集, 需要传入ndarray类型     \n",
    "        '''\n",
    "        self.X_train = X_train\n",
    "        self.y_train = y_train\n",
    "        self.X_test = X_test\n",
    "        self.y_test = y_test\n",
    "        self.featureNum = X_train.shape[1] #训练数据特征数\n",
    "        self.classNum = len(set(y_train))  #训练数据类数\n",
    "    \n",
    "    def NaiveBayes(self, lambda_smooth=1):\n",
    "        '''\n",
    "        NaiveBayes需要学习的参数:\n",
    "            P(Y): Prior -> sum(y_i)/total(Y)\n",
    "            P(X|Y): Likelihood -> \n",
    "        params:\n",
    "            X_train: 训练数据集\n",
    "            y_train: 训练标签\n",
    "        Note: 拉普拉斯平滑 lambda = 1\n",
    "        '''\n",
    "        y_train = self.y_train\n",
    "        X_train = self.X_train\n",
    "        # 1. 计算先验概率P(Yi)：每个Y_i的P(Y_i)\n",
    "        p_y = np.zeros((self.classNum, 1))\n",
    "        for i in range(self.classNum):\n",
    "            p_y[i] = ((np.sum(y_train == i)) + lambda_smooth) / (len(y_train) + self.classNum*lambda_smooth)\n",
    "        # 2. 计算似然P(Xj|Yi): \n",
    "        p_x_y = np.zeros((self.classNum, self.featureNum))\n",
    "        for i in range(self.classNum):\n",
    "            p_x_y[i,:] = (np.sum(X_train[y_train == i,:], axis=0) + 1)/(np.sum(y_train == i) + 2)\n",
    "        \n",
    "        return p_x_y, p_y\n",
    "    \n",
    "    def predict(self, p_y, p_x_y):\n",
    "        X_test = self.X_test\n",
    "        num_test = self.X_test.shape[0]\n",
    "        # 计算后验概率 P(Y|X)\n",
    "        # 为了避免累乘造成的下溢，我们用log转换成sum\n",
    "        log_p_y = np.log(p_y)\n",
    "        log_p_x_y = np.log(p_x_y)\n",
    "        p_y_x = np.zeros((num_test, self.classNum))\n",
    "        for i in range(self.classNum):\n",
    "            p_y_x[:, i] = log_p_y[i] + np.sum(X_test*log_p_x_y[i, :] + \n",
    "                                              (1-X_test)*np.log(1-np.exp(log_p_x_y[i,:])), axis=1)\n",
    "            \n",
    "            \n",
    "        return np.argmax(p_y_x, axis=1)\n",
    "        "
   ]
  },
  {
   "cell_type": "code",
   "execution_count": 35,
   "metadata": {},
   "outputs": [],
   "source": [
    "# mnist = fetch_openml('mnist_784')\n",
    "X = mnist.data/255.0\n",
    "y = mnist.target.astype(int)\n",
    "\n",
    "X_train, X_test, y_train, y_test = train_test_split(X, y, test_size=0.1, random_state=2)\n",
    "\n",
    "X_train = np.array(X_train)\n",
    "X_test = np.array(X_test)\n",
    "y_train = np.array(y_train)\n",
    "y_test = np.array(y_test)"
   ]
  },
  {
   "cell_type": "code",
   "execution_count": 36,
   "metadata": {},
   "outputs": [],
   "source": [
    "bayesclf = MyNavieBayes(X_train=X_train,\n",
    "                        y_train=y_train,\n",
    "                        X_test = X_test,\n",
    "                        y_test=y_test\n",
    "                        )\n",
    "                        "
   ]
  },
  {
   "cell_type": "code",
   "execution_count": 37,
   "metadata": {},
   "outputs": [],
   "source": [
    "p_x_y, p_y = bayesclf.NaiveBayes()\n",
    "y_pred = bayesclf.predict(p_y = p_y, p_x_y=p_x_y)"
   ]
  },
  {
   "cell_type": "code",
   "execution_count": 38,
   "metadata": {},
   "outputs": [
    {
     "data": {
      "text/plain": [
       "0.838"
      ]
     },
     "execution_count": 38,
     "metadata": {},
     "output_type": "execute_result"
    }
   ],
   "source": [
    "accuracy_score(y_pred, bayesclf.y_test)"
   ]
  },
  {
   "cell_type": "code",
   "execution_count": 39,
   "metadata": {},
   "outputs": [
    {
     "data": {
      "text/plain": [
       "0.8288571428571428"
      ]
     },
     "execution_count": 39,
     "metadata": {},
     "output_type": "execute_result"
    }
   ],
   "source": [
    "# sklearn库的Naive Bayes\n",
    "clf = MultinomialNB()\n",
    "clf.fit(X_train, y_train)\n",
    "\n",
    "y_pred = clf.predict(X_test)\n",
    "\n",
    "accuracy_score(y_pred, y_test)"
   ]
  }
 ],
 "metadata": {
  "kernelspec": {
   "display_name": "fit5221",
   "language": "python",
   "name": "python3"
  },
  "language_info": {
   "codemirror_mode": {
    "name": "ipython",
    "version": 3
   },
   "file_extension": ".py",
   "mimetype": "text/x-python",
   "name": "python",
   "nbconvert_exporter": "python",
   "pygments_lexer": "ipython3",
   "version": "3.9.16"
  },
  "orig_nbformat": 4
 },
 "nbformat": 4,
 "nbformat_minor": 2
}
