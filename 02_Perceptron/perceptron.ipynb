{
 "cells": [
  {
   "cell_type": "code",
   "execution_count": 57,
   "metadata": {},
   "outputs": [],
   "source": [
    "import numpy as np\n",
    "import time\n",
    "from sklearn.datasets import fetch_openml #download Minist\n",
    "from sklearn.metrics import accuracy_score\n",
    "from sklearn.linear_model import Perceptron\n",
    "from sklearn.model_selection import train_test_split"
   ]
  },
  {
   "cell_type": "code",
   "execution_count": 82,
   "metadata": {},
   "outputs": [
    {
     "data": {
      "text/plain": [
       "(784,)"
      ]
     },
     "execution_count": 82,
     "metadata": {},
     "output_type": "execute_result"
    }
   ],
   "source": [
    "np.array(train_data)[0].T.shape"
   ]
  },
  {
   "cell_type": "code",
   "execution_count": 85,
   "metadata": {},
   "outputs": [
    {
     "data": {
      "text/plain": [
       "array([0.])"
      ]
     },
     "execution_count": 85,
     "metadata": {},
     "output_type": "execute_result"
    }
   ],
   "source": [
    "np.dot(w,(np.array(train_data)[0]))"
   ]
  },
  {
   "cell_type": "code",
   "execution_count": 89,
   "metadata": {},
   "outputs": [],
   "source": [
    "class MyPerceptron:\n",
    "    '''\n",
    "    最简单的感知机模型: sign(w*x+b)\n",
    "    '''\n",
    "\n",
    "    # def __init__(self):\n",
    "    \n",
    "    def loadData(self,test_size=0.2, random_state=100):\n",
    "        mnist = fetch_openml('mnist_784')\n",
    "        X = mnist.data/255.0\n",
    "        y = mnist.target.astype(int)\n",
    "        y = np.where(y>=5, 1, -1)\n",
    "\n",
    "        X_train, X_test, y_train, y_test = train_test_split(X, y, test_size=test_size, random_state=random_state)\n",
    "        return X_train, y_train, X_test, y_test\n",
    "        \n",
    "    def perceptron(self, dataArr, labelArr, iter=100): \n",
    "        '''\n",
    "        params:\n",
    "            dataArr: 数据,list形式\n",
    "            labelArr: 标签,list\n",
    "            iter: 迭代次数\n",
    "        return:\n",
    "            训练后的参数\n",
    "        '''\n",
    "        # 1. 将data和label转换成ndarry\n",
    "        dataMat = np.array(dataArr)\n",
    "        labelMat = np.array(labelArr)\n",
    "        # 2. 获取data的形状, m->num, n->特征数\n",
    "        m,n = np.shape(dataMat)\n",
    "        # 3. 初始化训练参数\n",
    "        # w的长度与样本特征数保持一致\n",
    "        w = np.zeros((1, n)) # zeros后边参数表示形状(1,n)\n",
    "        b = 0 # bias\n",
    "        lr = 1e-3 # 步长，学习率\n",
    "\n",
    "        # 4. 迭代，训练\n",
    "        for k in range(iter):\n",
    "            #使用GD，对每一个样本进行梯度下降\n",
    "            for i in range(m):\n",
    "                #获取当前data和label\n",
    "                xi = dataMat[i]\n",
    "                yi = labelMat[i]\n",
    "                # 判断是否分错\\需要更新参数\n",
    "                # 这里的判断是,如果predict*true>=0就是正确\n",
    "                if -yi*(np.dot(w, xi.T) + b) >= 0:\n",
    "                    #错误结果更新参数\n",
    "                    w = w + lr*yi*xi\n",
    "                    b = b + lr*yi\n",
    "            print(f'Round {k}/{iter} training')\n",
    "        return w,b\n",
    "\n",
    "    def predict(self, test_data, w, b):\n",
    "        dataMat = np.array(test_data)\n",
    "        predict_array = np.dot(w,dataMat.T) + b\n",
    "        return np.where(predict_array>=0, 1, -1).squeeze()\n",
    "        \n",
    "\n",
    "\n",
    "            \n"
   ]
  },
  {
   "cell_type": "code",
   "execution_count": 90,
   "metadata": {},
   "outputs": [
    {
     "name": "stderr",
     "output_type": "stream",
     "text": [
      "/Users/xingwencui/miniconda3/envs/fit5221/lib/python3.9/site-packages/sklearn/datasets/_openml.py:968: FutureWarning: The default value of `parser` will change from `'liac-arff'` to `'auto'` in 1.4. You can set `parser='auto'` to silence this warning. Therefore, an `ImportError` will be raised from 1.4 if the dataset is dense and pandas is not installed. Note that the pandas parser may return different data types. See the Notes Section in fetch_openml's API doc for details.\n",
      "  warn(\n"
     ]
    },
    {
     "name": "stdout",
     "output_type": "stream",
     "text": [
      "Round 0/50 training\n",
      "Round 1/50 training\n",
      "Round 2/50 training\n",
      "Round 3/50 training\n",
      "Round 4/50 training\n",
      "Round 5/50 training\n",
      "Round 6/50 training\n",
      "Round 7/50 training\n",
      "Round 8/50 training\n",
      "Round 9/50 training\n",
      "Round 10/50 training\n",
      "Round 11/50 training\n",
      "Round 12/50 training\n",
      "Round 13/50 training\n",
      "Round 14/50 training\n",
      "Round 15/50 training\n",
      "Round 16/50 training\n",
      "Round 17/50 training\n",
      "Round 18/50 training\n",
      "Round 19/50 training\n",
      "Round 20/50 training\n",
      "Round 21/50 training\n",
      "Round 22/50 training\n",
      "Round 23/50 training\n",
      "Round 24/50 training\n",
      "Round 25/50 training\n",
      "Round 26/50 training\n",
      "Round 27/50 training\n",
      "Round 28/50 training\n",
      "Round 29/50 training\n",
      "Round 30/50 training\n",
      "Round 31/50 training\n",
      "Round 32/50 training\n",
      "Round 33/50 training\n",
      "Round 34/50 training\n",
      "Round 35/50 training\n",
      "Round 36/50 training\n",
      "Round 37/50 training\n",
      "Round 38/50 training\n",
      "Round 39/50 training\n",
      "Round 40/50 training\n",
      "Round 41/50 training\n",
      "Round 42/50 training\n",
      "Round 43/50 training\n",
      "Round 44/50 training\n",
      "Round 45/50 training\n",
      "Round 46/50 training\n",
      "Round 47/50 training\n",
      "Round 48/50 training\n",
      "Round 49/50 training\n",
      "Total train cost: 12.068340063095093, \n",
      "test_acc is 0.8257857142857142\n"
     ]
    }
   ],
   "source": [
    "# if __name__ == '__main__':\n",
    "Myperceptron = MyPerceptron()\n",
    "\n",
    "train_data, train_label, test_data, test_label = Myperceptron.loadData()\n",
    "\n",
    "start = time.time()\n",
    "\n",
    "w,b = Myperceptron.perceptron(train_data, train_label, iter=50)\n",
    "\n",
    "predict = Myperceptron.predict(test_data, w,b)\n",
    "\n",
    "accuracy = accuracy_score(test_label, predict)\n",
    "end = time.time()\n",
    "print(f'Total train cost: {end-start}, \\ntest_acc is {accuracy}')\n"
   ]
  },
  {
   "cell_type": "code",
   "execution_count": 60,
   "metadata": {},
   "outputs": [
    {
     "data": {
      "text/html": [
       "<style>#sk-container-id-1 {color: black;background-color: white;}#sk-container-id-1 pre{padding: 0;}#sk-container-id-1 div.sk-toggleable {background-color: white;}#sk-container-id-1 label.sk-toggleable__label {cursor: pointer;display: block;width: 100%;margin-bottom: 0;padding: 0.3em;box-sizing: border-box;text-align: center;}#sk-container-id-1 label.sk-toggleable__label-arrow:before {content: \"▸\";float: left;margin-right: 0.25em;color: #696969;}#sk-container-id-1 label.sk-toggleable__label-arrow:hover:before {color: black;}#sk-container-id-1 div.sk-estimator:hover label.sk-toggleable__label-arrow:before {color: black;}#sk-container-id-1 div.sk-toggleable__content {max-height: 0;max-width: 0;overflow: hidden;text-align: left;background-color: #f0f8ff;}#sk-container-id-1 div.sk-toggleable__content pre {margin: 0.2em;color: black;border-radius: 0.25em;background-color: #f0f8ff;}#sk-container-id-1 input.sk-toggleable__control:checked~div.sk-toggleable__content {max-height: 200px;max-width: 100%;overflow: auto;}#sk-container-id-1 input.sk-toggleable__control:checked~label.sk-toggleable__label-arrow:before {content: \"▾\";}#sk-container-id-1 div.sk-estimator input.sk-toggleable__control:checked~label.sk-toggleable__label {background-color: #d4ebff;}#sk-container-id-1 div.sk-label input.sk-toggleable__control:checked~label.sk-toggleable__label {background-color: #d4ebff;}#sk-container-id-1 input.sk-hidden--visually {border: 0;clip: rect(1px 1px 1px 1px);clip: rect(1px, 1px, 1px, 1px);height: 1px;margin: -1px;overflow: hidden;padding: 0;position: absolute;width: 1px;}#sk-container-id-1 div.sk-estimator {font-family: monospace;background-color: #f0f8ff;border: 1px dotted black;border-radius: 0.25em;box-sizing: border-box;margin-bottom: 0.5em;}#sk-container-id-1 div.sk-estimator:hover {background-color: #d4ebff;}#sk-container-id-1 div.sk-parallel-item::after {content: \"\";width: 100%;border-bottom: 1px solid gray;flex-grow: 1;}#sk-container-id-1 div.sk-label:hover label.sk-toggleable__label {background-color: #d4ebff;}#sk-container-id-1 div.sk-serial::before {content: \"\";position: absolute;border-left: 1px solid gray;box-sizing: border-box;top: 0;bottom: 0;left: 50%;z-index: 0;}#sk-container-id-1 div.sk-serial {display: flex;flex-direction: column;align-items: center;background-color: white;padding-right: 0.2em;padding-left: 0.2em;position: relative;}#sk-container-id-1 div.sk-item {position: relative;z-index: 1;}#sk-container-id-1 div.sk-parallel {display: flex;align-items: stretch;justify-content: center;background-color: white;position: relative;}#sk-container-id-1 div.sk-item::before, #sk-container-id-1 div.sk-parallel-item::before {content: \"\";position: absolute;border-left: 1px solid gray;box-sizing: border-box;top: 0;bottom: 0;left: 50%;z-index: -1;}#sk-container-id-1 div.sk-parallel-item {display: flex;flex-direction: column;z-index: 1;position: relative;background-color: white;}#sk-container-id-1 div.sk-parallel-item:first-child::after {align-self: flex-end;width: 50%;}#sk-container-id-1 div.sk-parallel-item:last-child::after {align-self: flex-start;width: 50%;}#sk-container-id-1 div.sk-parallel-item:only-child::after {width: 0;}#sk-container-id-1 div.sk-dashed-wrapped {border: 1px dashed gray;margin: 0 0.4em 0.5em 0.4em;box-sizing: border-box;padding-bottom: 0.4em;background-color: white;}#sk-container-id-1 div.sk-label label {font-family: monospace;font-weight: bold;display: inline-block;line-height: 1.2em;}#sk-container-id-1 div.sk-label-container {text-align: center;}#sk-container-id-1 div.sk-container {/* jupyter's `normalize.less` sets `[hidden] { display: none; }` but bootstrap.min.css set `[hidden] { display: none !important; }` so we also need the `!important` here to be able to override the default hidden behavior on the sphinx rendered scikit-learn.org. See: https://github.com/scikit-learn/scikit-learn/issues/21755 */display: inline-block !important;position: relative;}#sk-container-id-1 div.sk-text-repr-fallback {display: none;}</style><div id=\"sk-container-id-1\" class=\"sk-top-container\"><div class=\"sk-text-repr-fallback\"><pre>Perceptron(max_iter=30)</pre><b>In a Jupyter environment, please rerun this cell to show the HTML representation or trust the notebook. <br />On GitHub, the HTML representation is unable to render, please try loading this page with nbviewer.org.</b></div><div class=\"sk-container\" hidden><div class=\"sk-item\"><div class=\"sk-estimator sk-toggleable\"><input class=\"sk-toggleable__control sk-hidden--visually\" id=\"sk-estimator-id-1\" type=\"checkbox\" checked><label for=\"sk-estimator-id-1\" class=\"sk-toggleable__label sk-toggleable__label-arrow\">Perceptron</label><div class=\"sk-toggleable__content\"><pre>Perceptron(max_iter=30)</pre></div></div></div></div></div>"
      ],
      "text/plain": [
       "Perceptron(max_iter=30)"
      ]
     },
     "execution_count": 60,
     "metadata": {},
     "output_type": "execute_result"
    }
   ],
   "source": [
    "clf = Perceptron(max_iter=30, tol=1e-3)\n",
    "clf.fit(train_data,train_label)"
   ]
  },
  {
   "cell_type": "code",
   "execution_count": 61,
   "metadata": {},
   "outputs": [],
   "source": [
    "y_pred = clf.predict(test_data)"
   ]
  },
  {
   "cell_type": "code",
   "execution_count": 62,
   "metadata": {},
   "outputs": [
    {
     "data": {
      "text/plain": [
       "0.8118571428571428"
      ]
     },
     "execution_count": 62,
     "metadata": {},
     "output_type": "execute_result"
    }
   ],
   "source": [
    "accuracy_score(y_pred, test_label)"
   ]
  },
  {
   "cell_type": "code",
   "execution_count": 88,
   "metadata": {},
   "outputs": [
    {
     "data": {
      "text/plain": [
       "array([], dtype=float64)"
      ]
     },
     "execution_count": 88,
     "metadata": {},
     "output_type": "execute_result"
    }
   ],
   "source": []
  }
 ],
 "metadata": {
  "kernelspec": {
   "display_name": "fit5221",
   "language": "python",
   "name": "python3"
  },
  "language_info": {
   "codemirror_mode": {
    "name": "ipython",
    "version": 3
   },
   "file_extension": ".py",
   "mimetype": "text/x-python",
   "name": "python",
   "nbconvert_exporter": "python",
   "pygments_lexer": "ipython3",
   "version": "3.9.16"
  },
  "orig_nbformat": 4
 },
 "nbformat": 4,
 "nbformat_minor": 2
}
