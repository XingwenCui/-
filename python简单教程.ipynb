{
 "cells": [
  {
   "cell_type": "code",
   "execution_count": 10,
   "metadata": {},
   "outputs": [
    {
     "name": "stdout",
     "output_type": "stream",
     "text": [
      "[0, 1, 2, 3, 4, 5, 6, 7, 8, 9]\n",
      "[99, 98, 97, 96, 95, 94, 93, 92, 91, 90, 89, 88, 87, 86, 85, 84, 83, 82, 81, 80, 79, 78, 77, 76, 75, 74, 73, 72, 71, 70, 69, 68, 67, 66, 65, 64, 63, 62, 61, 60, 59, 58, 57, 56, 55, 54, 53, 52, 51, 50, 49, 48, 47, 46, 45, 44, 43, 42, 41, 40, 39, 38, 37, 36, 35, 34, 33, 32, 31, 30, 29, 28, 27, 26, 25, 24, 23, 22, 21, 20, 19, 18, 17, 16, 15, 14, 13, 12, 11, 10, 9, 8, 7, 6, 5, 4, 3, 2, 1, 0]\n",
      "[99, 94, 89, 84, 79, 74, 69, 64, 59, 54, 49, 44, 39, 34, 29, 24, 19, 14, 9, 4]\n",
      "[90, 92, 94, 96, 98]\n"
     ]
    }
   ],
   "source": [
    "# 切片操作\n",
    "# 切片操作的原理是：my_list[start:end:step]\n",
    "# start是开始，默认为0； end是结束，默认为-1，step是步长，如果是﹣的就从尾往前遍历\n",
    "L = list(range(100))    # 创建0-99数列\n",
    "print(L[:10])           # 取前十个\n",
    "print(L[::-1])          # 倒着遍历\n",
    "print(L[::-5])\n",
    "print(L[-10::2])"
   ]
  },
  {
   "cell_type": "code",
   "execution_count": 32,
   "metadata": {},
   "outputs": [
    {
     "name": "stdout",
     "output_type": "stream",
     "text": [
      "0 1 2 3 4 5 6 7 8 9 10 11 12 13 14 15 16 17 18 19 20 21 22 23 24 25 26 27 28 29 30 31 32 33 34 35 36 37 38 39 40 41 42 43 44 45 46 47 48 49 50 51 52 53 54 55 56 57 58 59 60 61 62 63 64 65 66 67 68 69 70 71 72 73 74 75 76 77 78 79 80 81 82 83 84 85 86 87 88 89 90 91 92 93 94 95 96 97 98 99 \n",
      "0 0 1 1 2 2 3 3 4 4 5 5 6 6 7 7 8 8 9 9 10 10 11 11 12 12 13 13 14 14 15 15 16 16 17 17 18 18 19 19 20 20 21 21 22 22 23 23 24 24 25 25 26 26 27 27 28 28 29 29 30 30 31 31 32 32 33 33 34 34 35 35 36 36 37 37 38 38 39 39 40 40 41 41 42 42 43 43 44 44 45 45 46 46 47 47 48 48 49 49 50 50 51 51 52 52 53 53 54 54 55 55 56 56 57 57 58 58 59 59 60 60 61 61 62 62 63 63 64 64 65 65 66 66 67 67 68 68 69 69 70 70 71 71 72 72 73 73 74 74 75 75 76 76 77 77 78 78 79 79 80 80 81 81 82 82 83 83 84 84 85 85 86 86 87 87 88 88 89 89 90 90 91 91 92 92 93 93 94 94 95 95 96 96 97 97 98 98 99 99 "
     ]
    }
   ],
   "source": [
    "# 迭代，python的迭代抽象的多，它可以直接作用在迭代对象上\n",
    "for i in L:\n",
    "    print(i,end=' ')\n",
    "print()\n",
    "for i,v in enumerate(L):\n",
    "    print(i,v, end=' ')"
   ]
  },
  {
   "cell_type": "code",
   "execution_count": 33,
   "metadata": {},
   "outputs": [
    {
     "name": "stdout",
     "output_type": "stream",
     "text": [
      "[0, 1, 2, 3, 4, 5, 6, 7, 8, 9, 10, 11, 12, 13, 14, 15, 16, 17, 18, 19, 20, 21, 22, 23, 24, 25, 26, 27, 28, 29, 30, 31, 32, 33, 34, 35, 36, 37, 38, 39, 40, 41, 42, 43, 44, 45, 46, 47, 48, 49, 50, 51, 52, 53, 54, 55, 56, 57, 58, 59, 60, 61, 62, 63, 64, 65, 66, 67, 68, 69, 70, 71, 72, 73, 74, 75, 76, 77, 78, 79, 80, 81, 82, 83, 84, 85, 86, 87, 88, 89, 90, 91, 92, 93, 94, 95, 96, 97, 98, 99]\n",
      "[0, 2, 4, 6, 8, 10, 12, 14, 16, 18, 20, 22, 24, 26, 28, 30, 32, 34, 36, 38, 40, 42, 44, 46, 48, 50, 52, 54, 56, 58, 60, 62, 64, 66, 68, 70, 72, 74, 76, 78, 80, 82, 84, 86, 88, 90, 92, 94, 96, 98]\n",
      "[0, -1, 2, -3, 4, -5, 6, -7, 8, -9, 10, -11, 12, -13, 14, -15, 16, -17, 18, -19, 20, -21, 22, -23, 24, -25, 26, -27, 28, -29, 30, -31, 32, -33, 34, -35, 36, -37, 38, -39, 40, -41, 42, -43, 44, -45, 46, -47, 48, -49, 50, -51, 52, -53, 54, -55, 56, -57, 58, -59, 60, -61, 62, -63, 64, -65, 66, -67, 68, -69, 70, -71, 72, -73, 74, -75, 76, -77, 78, -79, 80, -81, 82, -83, 84, -85, 86, -87, 88, -89, 90, -91, 92, -93, 94, -95, 96, -97, 98, -99]\n"
     ]
    }
   ],
   "source": [
    "# 列表生成式\n",
    "print([i for i in L])\n",
    "print([i for i in L if i %2 == 0])\n",
    "print([i if i%2 == 0 else -i for i in L])"
   ]
  },
  {
   "cell_type": "code",
   "execution_count": 44,
   "metadata": {},
   "outputs": [
    {
     "data": {
      "text/plain": [
       "<generator object <genexpr> at 0x10a3c4040>"
      ]
     },
     "execution_count": 44,
     "metadata": {},
     "output_type": "execute_result"
    }
   ],
   "source": [
    "# 生成器\n",
    "# 列表生成式由于内存限制，容量有限，为了节省空间，我们可以\n",
    "# 使用生成器，它可以通过算法一边迭代一边推算列表元素，这样就节省了大量的空间，因为用不到的元素\n",
    "# 也不占内存\n",
    "\n",
    "\n",
    "# 只需要把[]改成()\n",
    "g = (x*x for x in range(10))\n",
    "g"
   ]
  },
  {
   "cell_type": "code",
   "execution_count": 45,
   "metadata": {},
   "outputs": [
    {
     "name": "stdout",
     "output_type": "stream",
     "text": [
      "0 1 4 9 16 25 36 49 64 81 "
     ]
    }
   ],
   "source": [
    "# next(g)\n",
    "for i in g:\n",
    "    print(i, end=' ')"
   ]
  },
  {
   "cell_type": "code",
   "execution_count": 51,
   "metadata": {},
   "outputs": [
    {
     "name": "stdout",
     "output_type": "stream",
     "text": [
      "True\n",
      "False\n",
      "True\n"
     ]
    }
   ],
   "source": [
    "# 可以被for循环迭代的都成为可迭代对象：Iterable\n",
    "from collections import Iterable, Iterator\n",
    "print(isinstance([], Iterable))\n",
    "# 生成器不但可以被for迭代，也可以用next函数不断调用下一个值，直到StopIteration\n",
    "# 可以被next()调用的对象成为迭代器\n",
    "print(isinstance([], Iterator)) # 可以看出list不是iterator\n",
    "\n",
    "# 可以用iter函数转化为iterator\n",
    "print(isinstance(iter([]), Iterator))\n",
    "\n",
    "# Iterator是惰性的，对象是一个数据流，我们不知道它的长度，只能不断next计算下一个data"
   ]
  },
  {
   "cell_type": "markdown",
   "metadata": {},
   "source": [
    "## 函数式编程"
   ]
  },
  {
   "cell_type": "code",
   "execution_count": 58,
   "metadata": {},
   "outputs": [
    {
     "name": "stdout",
     "output_type": "stream",
     "text": [
      "1\n"
     ]
    },
    {
     "data": {
      "text/plain": [
       "['1', '2', '3', '4', '5']"
      ]
     },
     "execution_count": 58,
     "metadata": {},
     "output_type": "execute_result"
    }
   ],
   "source": [
    "# map(func, iterable): 将函数依次作用到Iterable每个元素，返回Iterator\n",
    "def f(x): return x*x\n",
    "\n",
    "r = map(f,[1,2,3,4,5,6])# 这是个map型变量，也是Iterator\n",
    "print(next(r))\n",
    "\n",
    "list(map(str,[1,2,3,4,5]))  # 把所有元素转换成str"
   ]
  },
  {
   "cell_type": "code",
   "execution_count": 62,
   "metadata": {},
   "outputs": [
    {
     "name": "stdout",
     "output_type": "stream",
     "text": [
      "16\n",
      "1357\n"
     ]
    }
   ],
   "source": [
    "# reduce(): 把一个函数作用在一个序列[x1,x2,...]上\n",
    "# 他会把结果和序列的下一个元素做累积计算：\n",
    "# reduce(f, [x1, x2, x3, x4]) = f(f(f(x1, x2), x3), x4)\n",
    "def add(x,y):\n",
    "    return x+y\n",
    "from functools import reduce\n",
    "print(reduce(add, [1,3,5,7]))  # 累加\n",
    "\n",
    "def fn(x,y):\n",
    "    return x*10 + y\n",
    "\n",
    "print(reduce(fn, [1,3,5,7]))"
   ]
  },
  {
   "cell_type": "code",
   "execution_count": 64,
   "metadata": {},
   "outputs": [
    {
     "data": {
      "text/plain": [
       "[1, 3, 5, 7]"
      ]
     },
     "execution_count": 64,
     "metadata": {},
     "output_type": "execute_result"
    }
   ],
   "source": [
    "# filter()，用于过滤，如果函数返回为true就保留，否则丢弃\n",
    "def is_odd(n):\n",
    "    # 这个函数返回的应该是boolean\n",
    "    return n%2 == 1\n",
    "\n",
    "list(filter(is_odd,[1,2,3,5,6,7,8]))"
   ]
  },
  {
   "cell_type": "code",
   "execution_count": 70,
   "metadata": {},
   "outputs": [
    {
     "name": "stdout",
     "output_type": "stream",
     "text": [
      "[-21, -12, 5, 9, 36]\n",
      "[5, 9, -12, -21, 36]\n",
      "['about', 'bob', 'Credit', 'Zoo']\n"
     ]
    },
    {
     "data": {
      "text/plain": [
       "['Zoo', 'Credit', 'bob', 'about']"
      ]
     },
     "execution_count": 70,
     "metadata": {},
     "output_type": "execute_result"
    }
   ],
   "source": [
    "# sorted(ls,key=)方法，他是个高阶函数，可以接收一个key来自定义排序\n",
    "ls = [36, 5, -12, 9, -21]\n",
    "# 直接排序\n",
    "print(sorted(ls))\n",
    "# 按绝对值排序\n",
    "print(sorted(ls, key=abs))\n",
    "str_ls = ['bob', 'about', 'Zoo', 'Credit']\n",
    "print(sorted(str_ls,key=str.lower))\n",
    "# 反向排序加入第三个参数\n",
    "sorted(str_ls, key=str.lower, reverse=True)"
   ]
  },
  {
   "cell_type": "code",
   "execution_count": 71,
   "metadata": {},
   "outputs": [
    {
     "data": {
      "text/plain": [
       "<function __main__.lazy_sum.<locals>.sum()>"
      ]
     },
     "execution_count": 71,
     "metadata": {},
     "output_type": "execute_result"
    }
   ],
   "source": [
    "# 返回函数 - 函数作为返回值\n",
    "def lazy_sum(*args):\n",
    "    # 这样做的好处是内部函数sum可以\n",
    "    # 引用外部函数lazy_sum的参数和局部变量\n",
    "    # 相关参数，变量都保存在返回的函数中，形成闭包\n",
    "    def sum():\n",
    "        ax = 0\n",
    "        for n in args:\n",
    "            ax+=n\n",
    "        return ax\n",
    "    return sum\n",
    "f = lazy_sum(1, 3, 5, 7, 9)\n",
    "f   # 返回的并不是求和结果，而是求和函数"
   ]
  },
  {
   "cell_type": "code",
   "execution_count": 72,
   "metadata": {},
   "outputs": [
    {
     "data": {
      "text/plain": [
       "25"
      ]
     },
     "execution_count": 72,
     "metadata": {},
     "output_type": "execute_result"
    }
   ],
   "source": [
    "# 调用f时，才计算结果\n",
    "f()\n"
   ]
  },
  {
   "cell_type": "code",
   "execution_count": 74,
   "metadata": {},
   "outputs": [
    {
     "data": {
      "text/plain": [
       "25"
      ]
     },
     "execution_count": 74,
     "metadata": {},
     "output_type": "execute_result"
    }
   ],
   "source": [
    "# lambda函数 -> lambda params: return expression\n",
    "# lambda x: x*x = def f(x): return x*x\n",
    "f = lambda x,y: x*x+ y*y\n",
    "f(3,4)"
   ]
  },
  {
   "cell_type": "code",
   "execution_count": 76,
   "metadata": {},
   "outputs": [
    {
     "name": "stdout",
     "output_type": "stream",
     "text": [
      "2023-12-3\n"
     ]
    }
   ],
   "source": [
    "# 装饰器\n",
    "def now():\n",
    "    print('2023-12-3')\n",
    "\n",
    "f = now\n",
    "f()"
   ]
  },
  {
   "cell_type": "code",
   "execution_count": 78,
   "metadata": {},
   "outputs": [
    {
     "data": {
      "text/plain": [
       "'now'"
      ]
     },
     "execution_count": 78,
     "metadata": {},
     "output_type": "execute_result"
    }
   ],
   "source": [
    "print(now.__name__)\n",
    "print(f.__name__)"
   ]
  },
  {
   "cell_type": "code",
   "execution_count": 80,
   "metadata": {},
   "outputs": [
    {
     "name": "stdout",
     "output_type": "stream",
     "text": [
      "call now():\n",
      "2015-3-25\n"
     ]
    }
   ],
   "source": [
    "# 如果要增强now的功能，但不希望修改now，这种在代码运行期间\n",
    "# 动态增加功能的方式称为decorator\n",
    "def log(func):\n",
    "    def wrapper(*args, **kw):\n",
    "        print('call %s():'%func.__name__)\n",
    "        return func(*args, **kw)\n",
    "    return wrapper\n",
    "\n",
    "# 此时log是一个decorator，所以接受一个函数作为参数，并返回参数\n",
    "# 借助python的@，把decorator置于定义处\n",
    "@log\n",
    "def now():\n",
    "    print('2015-3-25')\n",
    "now()"
   ]
  },
  {
   "cell_type": "markdown",
   "metadata": {},
   "source": [
    "## OOP"
   ]
  },
  {
   "cell_type": "code",
   "execution_count": 98,
   "metadata": {},
   "outputs": [
    {
     "name": "stdout",
     "output_type": "stream",
     "text": [
      "bart: 59\n"
     ]
    }
   ],
   "source": [
    "class Student(object):  # object是所有类的父类\n",
    "    \n",
    "    cls = 'class 7' # 类属性，实例属性不能重名\n",
    "\n",
    "    def __init__(self, name, score):\n",
    "        # 实例属性\n",
    "        # 私有成员，不能修改\n",
    "        self.__name = name\n",
    "        self.__score = score\n",
    "\n",
    "    def get_score(self):\n",
    "        return self.__score\n",
    "    \n",
    "    def get_name(self):\n",
    "        return self.__name\n",
    "    \n",
    "    def set_name(self, name):\n",
    "        self.__name = name\n",
    "    \n",
    "    def set_score(self, score):\n",
    "        self.__score = score\n",
    "    \n",
    "\n",
    "    def print_score(self):\n",
    "        print('%s: %s'%(self.__name, self.__score))\n",
    "\n",
    "bart = Student('bart',59)\n",
    "# bart.__name # private不能访问\n",
    "bart.print_score()"
   ]
  },
  {
   "cell_type": "code",
   "execution_count": 96,
   "metadata": {},
   "outputs": [
    {
     "name": "stdout",
     "output_type": "stream",
     "text": [
      "Animal is running...\n",
      "Animal is running...\n",
      "Dog is eating\n",
      "Cat is running\n",
      "True\n",
      "True\n"
     ]
    },
    {
     "data": {
      "text/plain": [
       "__main__.Cat"
      ]
     },
     "execution_count": 96,
     "metadata": {},
     "output_type": "execute_result"
    }
   ],
   "source": [
    "## 继承\n",
    "class Animal(object):\n",
    "\n",
    "    def run(self):\n",
    "        print('Animal is running...')\n",
    "\n",
    "class Dog(Animal):\n",
    "    # 多加方法\n",
    "    def eat(self):\n",
    "        print('Dog is eating')\n",
    "\n",
    "class Cat(Animal):\n",
    "    # 重写方法\n",
    "    def run(self):\n",
    "        print('Cat is running')\n",
    "\n",
    "a = Animal()\n",
    "b = Dog()\n",
    "c = Cat()\n",
    "\n",
    "a.run()\n",
    "b.run()\n",
    "b.eat()\n",
    "c.run()\n",
    "# 多态就是一个对象有多种状态，这样的好处是当需要传入Dog，Cat时，只需要接受Animal类型\n",
    "print(isinstance(b,Animal))\n",
    "print(isinstance(b,Dog))\n",
    "type(c)"
   ]
  },
  {
   "cell_type": "code",
   "execution_count": 99,
   "metadata": {},
   "outputs": [
    {
     "data": {
      "text/plain": [
       "['__class__',\n",
       " '__delattr__',\n",
       " '__dict__',\n",
       " '__dir__',\n",
       " '__doc__',\n",
       " '__eq__',\n",
       " '__format__',\n",
       " '__ge__',\n",
       " '__getattribute__',\n",
       " '__gt__',\n",
       " '__hash__',\n",
       " '__init__',\n",
       " '__init_subclass__',\n",
       " '__le__',\n",
       " '__lt__',\n",
       " '__module__',\n",
       " '__ne__',\n",
       " '__new__',\n",
       " '__reduce__',\n",
       " '__reduce_ex__',\n",
       " '__repr__',\n",
       " '__setattr__',\n",
       " '__sizeof__',\n",
       " '__str__',\n",
       " '__subclasshook__',\n",
       " '__weakref__',\n",
       " 'run']"
      ]
     },
     "execution_count": 99,
     "metadata": {},
     "output_type": "execute_result"
    }
   ],
   "source": [
    "# 查看类的属性，方法\n",
    "dir(c)"
   ]
  },
  {
   "cell_type": "code",
   "execution_count": 102,
   "metadata": {},
   "outputs": [
    {
     "ename": "AttributeError",
     "evalue": "'Slot' object has no attribute 'score'",
     "output_type": "error",
     "traceback": [
      "\u001b[0;31m---------------------------------------------------------------------------\u001b[0m",
      "\u001b[0;31mAttributeError\u001b[0m                            Traceback (most recent call last)",
      "\u001b[1;32m/Users/xingwencui/Programming/Statistical_learning_method_LH/python简单教程.ipynb Cell 22\u001b[0m line \u001b[0;36m1\n\u001b[1;32m      <a href='vscode-notebook-cell:/Users/xingwencui/Programming/Statistical_learning_method_LH/python%E7%AE%80%E5%8D%95%E6%95%99%E7%A8%8B.ipynb#X32sZmlsZQ%3D%3D?line=8'>9</a>\u001b[0m s\u001b[39m.\u001b[39mname\n\u001b[1;32m     <a href='vscode-notebook-cell:/Users/xingwencui/Programming/Statistical_learning_method_LH/python%E7%AE%80%E5%8D%95%E6%95%99%E7%A8%8B.ipynb#X32sZmlsZQ%3D%3D?line=9'>10</a>\u001b[0m s\u001b[39m.\u001b[39mage\u001b[39m=\u001b[39m\u001b[39m1\u001b[39m\n\u001b[0;32m---> <a href='vscode-notebook-cell:/Users/xingwencui/Programming/Statistical_learning_method_LH/python%E7%AE%80%E5%8D%95%E6%95%99%E7%A8%8B.ipynb#X32sZmlsZQ%3D%3D?line=10'>11</a>\u001b[0m s\u001b[39m.\u001b[39;49mscore \u001b[39m=\u001b[39m \u001b[39m100\u001b[39m\n",
      "\u001b[0;31mAttributeError\u001b[0m: 'Slot' object has no attribute 'score'"
     ]
    }
   ],
   "source": [
    "# __slots__: 限制instance的属性在class外添加\n",
    "class Slot:\n",
    "    # 对继承的子类不影响\n",
    "    __slots__ = ('name', 'age')\n",
    "\n",
    "    def __init__(self,name='1') -> None:\n",
    "        self.name = name\n",
    "\n",
    "s = Slot('2')\n",
    "s.name\n",
    "s.age=1\n",
    "s.score = 100   # 由于slot中无score，故引出错误"
   ]
  },
  {
   "cell_type": "code",
   "execution_count": 105,
   "metadata": {},
   "outputs": [
    {
     "ename": "NameError",
     "evalue": "name 'score_setter' is not defined",
     "output_type": "error",
     "traceback": [
      "\u001b[0;31m---------------------------------------------------------------------------\u001b[0m",
      "\u001b[0;31mNameError\u001b[0m                                 Traceback (most recent call last)",
      "\u001b[1;32m/Users/xingwencui/Programming/Statistical_learning_method_LH/python简单教程.ipynb Cell 23\u001b[0m line \u001b[0;36m2\n\u001b[1;32m      <a href='vscode-notebook-cell:/Users/xingwencui/Programming/Statistical_learning_method_LH/python%E7%AE%80%E5%8D%95%E6%95%99%E7%A8%8B.ipynb#X33sZmlsZQ%3D%3D?line=0'>1</a>\u001b[0m \u001b[39m# @property: 把一个方法变成属性调用\u001b[39;00m\n\u001b[0;32m----> <a href='vscode-notebook-cell:/Users/xingwencui/Programming/Statistical_learning_method_LH/python%E7%AE%80%E5%8D%95%E6%95%99%E7%A8%8B.ipynb#X33sZmlsZQ%3D%3D?line=1'>2</a>\u001b[0m \u001b[39mclass\u001b[39;00m \u001b[39mStudent\u001b[39;00m:\n\u001b[1;32m      <a href='vscode-notebook-cell:/Users/xingwencui/Programming/Statistical_learning_method_LH/python%E7%AE%80%E5%8D%95%E6%95%99%E7%A8%8B.ipynb#X33sZmlsZQ%3D%3D?line=2'>3</a>\u001b[0m     \u001b[39m# 直接把score方法变成属性，并且动态的加上功能，比如限制区域\u001b[39;00m\n\u001b[1;32m      <a href='vscode-notebook-cell:/Users/xingwencui/Programming/Statistical_learning_method_LH/python%E7%AE%80%E5%8D%95%E6%95%99%E7%A8%8B.ipynb#X33sZmlsZQ%3D%3D?line=3'>4</a>\u001b[0m     \u001b[39m@property\u001b[39m\n\u001b[1;32m      <a href='vscode-notebook-cell:/Users/xingwencui/Programming/Statistical_learning_method_LH/python%E7%AE%80%E5%8D%95%E6%95%99%E7%A8%8B.ipynb#X33sZmlsZQ%3D%3D?line=4'>5</a>\u001b[0m     \u001b[39mdef\u001b[39;00m \u001b[39mscore\u001b[39m(\u001b[39mself\u001b[39m):\n\u001b[1;32m      <a href='vscode-notebook-cell:/Users/xingwencui/Programming/Statistical_learning_method_LH/python%E7%AE%80%E5%8D%95%E6%95%99%E7%A8%8B.ipynb#X33sZmlsZQ%3D%3D?line=5'>6</a>\u001b[0m         \u001b[39mreturn\u001b[39;00m \u001b[39mself\u001b[39m\u001b[39m.\u001b[39mscore\n",
      "\u001b[1;32m/Users/xingwencui/Programming/Statistical_learning_method_LH/python简单教程.ipynb Cell 23\u001b[0m line \u001b[0;36m8\n\u001b[1;32m      <a href='vscode-notebook-cell:/Users/xingwencui/Programming/Statistical_learning_method_LH/python%E7%AE%80%E5%8D%95%E6%95%99%E7%A8%8B.ipynb#X33sZmlsZQ%3D%3D?line=3'>4</a>\u001b[0m \u001b[39m@property\u001b[39m\n\u001b[1;32m      <a href='vscode-notebook-cell:/Users/xingwencui/Programming/Statistical_learning_method_LH/python%E7%AE%80%E5%8D%95%E6%95%99%E7%A8%8B.ipynb#X33sZmlsZQ%3D%3D?line=4'>5</a>\u001b[0m \u001b[39mdef\u001b[39;00m \u001b[39mscore\u001b[39m(\u001b[39mself\u001b[39m):\n\u001b[1;32m      <a href='vscode-notebook-cell:/Users/xingwencui/Programming/Statistical_learning_method_LH/python%E7%AE%80%E5%8D%95%E6%95%99%E7%A8%8B.ipynb#X33sZmlsZQ%3D%3D?line=5'>6</a>\u001b[0m     \u001b[39mreturn\u001b[39;00m \u001b[39mself\u001b[39m\u001b[39m.\u001b[39mscore\n\u001b[0;32m----> <a href='vscode-notebook-cell:/Users/xingwencui/Programming/Statistical_learning_method_LH/python%E7%AE%80%E5%8D%95%E6%95%99%E7%A8%8B.ipynb#X33sZmlsZQ%3D%3D?line=7'>8</a>\u001b[0m \u001b[39m@score_setter\u001b[39m\n\u001b[1;32m      <a href='vscode-notebook-cell:/Users/xingwencui/Programming/Statistical_learning_method_LH/python%E7%AE%80%E5%8D%95%E6%95%99%E7%A8%8B.ipynb#X33sZmlsZQ%3D%3D?line=8'>9</a>\u001b[0m \u001b[39mdef\u001b[39;00m \u001b[39mscore\u001b[39m(\u001b[39mself\u001b[39m, value):\n\u001b[1;32m     <a href='vscode-notebook-cell:/Users/xingwencui/Programming/Statistical_learning_method_LH/python%E7%AE%80%E5%8D%95%E6%95%99%E7%A8%8B.ipynb#X33sZmlsZQ%3D%3D?line=9'>10</a>\u001b[0m     \u001b[39mif\u001b[39;00m \u001b[39mnot\u001b[39;00m \u001b[39misinstance\u001b[39m(value, \u001b[39mint\u001b[39m):\n\u001b[1;32m     <a href='vscode-notebook-cell:/Users/xingwencui/Programming/Statistical_learning_method_LH/python%E7%AE%80%E5%8D%95%E6%95%99%E7%A8%8B.ipynb#X33sZmlsZQ%3D%3D?line=10'>11</a>\u001b[0m         \u001b[39mraise\u001b[39;00m \u001b[39mValueError\u001b[39;00m(\u001b[39m'\u001b[39m\u001b[39mscore must be an integer!\u001b[39m\u001b[39m'\u001b[39m)\n",
      "\u001b[0;31mNameError\u001b[0m: name 'score_setter' is not defined"
     ]
    }
   ],
   "source": [
    "# @property: 把一个方法变成属性调用\n",
    "class Student:\n",
    "    # 直接把score方法变成属性，并且动态的加上功能，比如限制区域\n",
    "    @property\n",
    "    def score(self):\n",
    "        return self.score\n",
    "    \n",
    "    # 设置方法\n",
    "    @score.setter\n",
    "    def score(self, value):\n",
    "        if not isinstance(value, int):\n",
    "            raise ValueError('score must be an integer!')\n",
    "        if value < 0 or value > 100:\n",
    "            raise ValueError('score must between 0 ~ 100!')\n",
    "        self._score = value"
   ]
  },
  {
   "cell_type": "code",
   "execution_count": 104,
   "metadata": {},
   "outputs": [],
   "source": [
    "s = Student()\n",
    "s.score = 60"
   ]
  }
 ],
 "metadata": {
  "kernelspec": {
   "display_name": "fit5221",
   "language": "python",
   "name": "python3"
  },
  "language_info": {
   "codemirror_mode": {
    "name": "ipython",
    "version": 3
   },
   "file_extension": ".py",
   "mimetype": "text/x-python",
   "name": "python",
   "nbconvert_exporter": "python",
   "pygments_lexer": "ipython3",
   "version": "3.9.16"
  }
 },
 "nbformat": 4,
 "nbformat_minor": 2
}
