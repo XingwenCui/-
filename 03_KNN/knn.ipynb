{
 "cells": [
  {
   "cell_type": "code",
   "execution_count": 3,
   "metadata": {},
   "outputs": [],
   "source": [
    "import time\n",
    "import numpy as np\n",
    "\n",
    "from sklearn.datasets import fetch_openml #download Minist\n",
    "from sklearn.metrics import accuracy_score\n",
    "from sklearn.model_selection import train_test_split"
   ]
  },
  {
   "cell_type": "code",
   "execution_count": 28,
   "metadata": {},
   "outputs": [],
   "source": [
    "class MyKnn:\n",
    "\n",
    "    def loadData(self, test_size=0.2, random_state=100):\n",
    "        mnist = fetch_openml('mnist_784')\n",
    "        X = mnist.data/255.0\n",
    "        y = mnist.target.astype(int)\n",
    "\n",
    "        X_train, X_test, y_train, y_test = train_test_split(X, y, test_size=test_size, random_state=random_state)\n",
    "        return np.array(X_train), np.array(y_train), np.array(X_test), np.array(y_test)\n",
    "        \n",
    "    def calculate_dist(self, x1,x2,mode='L2') -> np.ndarray:\n",
    "        '''\n",
    "        计算两个样本点之间的距离\n",
    "        params:\n",
    "            x1: vector 1\n",
    "            x2: vector 2\n",
    "            mode: L1 norm or L2 norm\n",
    "        '''\n",
    "        if mode==\"L2\":\n",
    "            return np.sqrt(np.sum(np.square(x1-x2)))\n",
    "        else:\n",
    "            return np.sum(np.abs(x1-x2))\n",
    "    \n",
    "    def fit(self, X_train, y_train, x, k=10):\n",
    "        '''\n",
    "        用训练集预测新样本x的分类\n",
    "        '''\n",
    "        X_train = np.array(X_train)\n",
    "        m = X_train.shape[0]\n",
    "        dist_array = np.zeros((m))\n",
    "        # 1. 计算新样本点与训练集所有点的距离\n",
    "        for i in range(m):\n",
    "            #计算样本点与训练集一点的距离\n",
    "            curDist = self.calculate_dist(x, X_train[i])\n",
    "            dist_array[i] = curDist\n",
    "        \n",
    "        # 2. 对距离排序，选距离最小的k个点，获得他们的index\n",
    "        top_k_idx = np.argsort(dist_array)[:k]\n",
    "        top_k_y = np.array([y_train[i] for i in top_k_idx])\n",
    "\n",
    "        # 3. 选数量最多的作为预测类\n",
    "        y_pred = np.bincount(top_k_y).argmax()\n",
    "\n",
    "        return y_pred\n",
    "    \n",
    "    def predict(self, X_train, y_train, X_test, y_test, k = 10) -> np.ndarray:\n",
    "        m = X_test.shape[0]\n",
    "        y_pred_array = np.zeros((m))\n",
    "        for i in range(m):\n",
    "            y_pred_array[i] = self.fit(X_train, y_train, X_test[i], k=k)\n",
    "        return y_pred_array"
   ]
  },
  {
   "cell_type": "code",
   "execution_count": 22,
   "metadata": {},
   "outputs": [
    {
     "name": "stderr",
     "output_type": "stream",
     "text": [
      "/Users/xingwencui/miniconda3/envs/fit5221/lib/python3.9/site-packages/sklearn/datasets/_openml.py:968: FutureWarning: The default value of `parser` will change from `'liac-arff'` to `'auto'` in 1.4. You can set `parser='auto'` to silence this warning. Therefore, an `ImportError` will be raised from 1.4 if the dataset is dense and pandas is not installed. Note that the pandas parser may return different data types. See the Notes Section in fetch_openml's API doc for details.\n",
      "  warn(\n"
     ]
    }
   ],
   "source": [
    "train_data, train_label, test_data, test_label = knn.loadData()"
   ]
  },
  {
   "cell_type": "code",
   "execution_count": 29,
   "metadata": {},
   "outputs": [
    {
     "data": {
      "text/plain": [
       "9.663598924588975"
      ]
     },
     "execution_count": 29,
     "metadata": {},
     "output_type": "execute_result"
    }
   ],
   "source": [
    "knn = MyKnn()\n",
    "knn.calculate_dist(train_data[1],test_data[1])"
   ]
  },
  {
   "cell_type": "code",
   "execution_count": 33,
   "metadata": {},
   "outputs": [],
   "source": [
    "y_pred = knn.predict(train_data,train_label,test_data[:100],test_label[:100])"
   ]
  },
  {
   "cell_type": "code",
   "execution_count": 34,
   "metadata": {},
   "outputs": [
    {
     "data": {
      "text/plain": [
       "0.97"
      ]
     },
     "execution_count": 34,
     "metadata": {},
     "output_type": "execute_result"
    }
   ],
   "source": [
    "accuracy_score(y_pred, test_label[:100])"
   ]
  }
 ],
 "metadata": {
  "kernelspec": {
   "display_name": "fit5221",
   "language": "python",
   "name": "python3"
  },
  "language_info": {
   "codemirror_mode": {
    "name": "ipython",
    "version": 3
   },
   "file_extension": ".py",
   "mimetype": "text/x-python",
   "name": "python",
   "nbconvert_exporter": "python",
   "pygments_lexer": "ipython3",
   "version": "3.9.16"
  },
  "orig_nbformat": 4
 },
 "nbformat": 4,
 "nbformat_minor": 2
}
